{
 "cells": [
  {
   "cell_type": "markdown",
   "id": "9a15c213",
   "metadata": {},
   "source": [
    "# Markdown Converter Tools: Empowering Agents to Convert Files and URLs to Markdown Format\n",
    "\n",
    "AG2 offers conversational agents the ability to convert files and URLs to markdown format. This is achieved using the `markdown_converter` tool. This tool is a wrapper around the libraries `markitdown` from Microsoft and the `docling` library. \n",
    "\n",
    "The `markitdown` tool is capable of converting the following file types:\n",
    "- PDF\n",
    "- PowerPoint\n",
    "- Word\n",
    "- Excel\n",
    "- HTML\n",
    "- Text-based formats (CSV, JSON, XML)\n",
    "- ZIP files (iterates over contents)\n",
    "\n",
    "Currently not supported:\n",
    "- Images (EXIF metadata and OCR)\n",
    "- Audio (EXIF metadata and speech transcription)\n",
    "\n",
    "The `docling` tool is capable of converting the following file types:\n",
    "- PDF\n",
    "- IMAGE\n",
    "- DOCX\n",
    "- HTML\n",
    "- PPTX\n",
    "\n",
    "````{=mdx}\n",
    ":::info Requirements\n",
    "To install and use the `markdown_converter` tool, you need to install the `tool_convert` extra. This can be done by running the following command:\n",
    "\n",
    "```bash\n",
    "pip install ag2[tool_convert]\n",
    "```\n",
    ":::\n",
    "````"
   ]
  },
  {
   "cell_type": "markdown",
   "id": "85bd6066",
   "metadata": {},
   "source": [
    "## Set Configuration and OpenAI API Key\n",
    "\n",
    "By default, in order to use the Markdown Conversion Tool, you need to have an OpenAI key in your environment variable `OPENAI_API_KEY`.\n",
    "\n",
    "You can utilize an `OAI_CONFIG_LIST` file and extract the OpenAI API key and put it in the environment, as will be shown in the following cell.\n",
    "\n",
    "Alternatively, you can load the environment variable yourself.\n",
    "\n",
    "````{=mdx}\n",
    ":::tip\n",
    "Learn more about configuring LLMs for agents [here](/docs/topics/llm_configuration).\n",
    ":::\n"
   ]
  },
  {
   "cell_type": "code",
   "execution_count": null,
   "id": "d6989655",
   "metadata": {},
   "outputs": [],
   "source": [
    "import os\n",
    "\n",
    "import autogen\n",
    "\n",
    "config_list = autogen.config_list_from_json(env_or_file=\"OAI_CONFIG_LIST\")\n",
    "\n",
    "# Put the OpenAI API key into the environment\n",
    "os.environ[\"OPENAI_API_KEY\"] = config_list[0][\"api_key\"]"
   ]
  },
  {
   "cell_type": "markdown",
   "id": "88b783d2",
   "metadata": {},
   "source": [
    "## Key Information: Using Markdown Tools with Conversable Agents 🚀\n",
    "\n",
    "> **Important**  \n",
    "> - **Default Converter**:\n",
    ">   - **Markdown Converter**: `markdown_converter` gets registered by running `register_converter(assistant, user_proxy, \"docling\")`\n",
    ">\n",
    "> - **Customization**:\n",
    ">   - You can change the converter by setting the `converter` parameter on `register_converter`: (`markitdown` and `docusaurus` are currently supported)\n",
    ">   - You can specify a different tool name and tool description by setting the `name` and `description` parameters on `register_converter`\n",
    ">\n"
   ]
  },
  {
   "cell_type": "markdown",
   "id": "c2156150",
   "metadata": {},
   "source": [
    "## Example 1: Converting a Local File to Markdown with Markitdown\n",
    "Setting up the agents"
   ]
  },
  {
   "cell_type": "code",
   "execution_count": null,
   "id": "7f66e2ee",
   "metadata": {},
   "outputs": [],
   "source": [
    "import os\n",
    "\n",
    "from dotenv import load_dotenv\n",
    "\n",
    "from autogen.agentchat.conversable_agent import ConversableAgent\n",
    "from autogen.tools.converter_tools.register import register_converter\n",
    "\n",
    "load_dotenv()\n",
    "\n",
    "\n",
    "assistant = ConversableAgent(\n",
    "    name=\"Assistant\",\n",
    "    system_message=\"You are a helpful AI assistant. \"\n",
    "    \"You can help with converting local files or URLs to markdown. use the provided function markdown_convert. \"\n",
    "    \"Return 'TERMINATE' when the task is done.\",\n",
    "    llm_config={\"model\": \"gpt-4o\", \"api_key\": os.environ[\"API_KEY\"]},\n",
    ")\n",
    "\n",
    "user_proxy = ConversableAgent(\n",
    "    name=\"User\",\n",
    "    llm_config=False,\n",
    "    is_termination_msg=lambda msg: msg.get(\"content\") is not None and \"TERMINATE\" in msg[\"content\"],\n",
    "    human_input_mode=\"NEVER\",\n",
    ")"
   ]
  },
  {
   "cell_type": "markdown",
   "id": "d10808ed",
   "metadata": {},
   "source": [
    "Registering the default converter `markitdown`\n"
   ]
  },
  {
   "cell_type": "code",
   "execution_count": 2,
   "id": "53fc1fd8",
   "metadata": {},
   "outputs": [],
   "source": [
    "register_converter(assistant, user_proxy)"
   ]
  },
  {
   "cell_type": "markdown",
   "id": "f73428b1",
   "metadata": {},
   "source": [
    "Example: getting the content of an XLSX file\n"
   ]
  },
  {
   "cell_type": "code",
   "execution_count": null,
   "id": "124c5f4d",
   "metadata": {},
   "outputs": [],
   "source": [
    "chat_result = user_proxy.initiate_chat(\n",
    "    assistant, message=\"What is the content of the file test/agentchat/contrib/markdown_converter/test_files/test.xlsx\"\n",
    ")"
   ]
  },
  {
   "cell_type": "markdown",
   "id": "9dbd111d",
   "metadata": {},
   "source": [
    "## Example 2: Converting a Local File to Markdown with Docling\n",
    "Setting up the agents\n"
   ]
  },
  {
   "cell_type": "code",
   "execution_count": null,
   "id": "adb4269b",
   "metadata": {},
   "outputs": [],
   "source": [
    "import os\n",
    "\n",
    "from dotenv import load_dotenv\n",
    "\n",
    "from autogen.agentchat.conversable_agent import ConversableAgent\n",
    "from autogen.tools.converter_tools.register import register_converter\n",
    "\n",
    "load_dotenv()\n",
    "\n",
    "\n",
    "assistant = ConversableAgent(\n",
    "    name=\"Assistant\",\n",
    "    system_message=\"You are a helpful AI assistant. \"\n",
    "    \"You can help with converting local files or URLs to markdown. use the provided function markdown_convert. \"\n",
    "    \"Return 'TERMINATE' when the task is done.\",\n",
    "    llm_config={\"model\": \"gpt-4o\", \"api_key\": os.environ[\"API_KEY\"]},\n",
    ")\n",
    "\n",
    "user_proxy = ConversableAgent(\n",
    "    name=\"User\",\n",
    "    llm_config=False,\n",
    "    is_termination_msg=lambda msg: msg.get(\"content\") is not None and \"TERMINATE\" in msg[\"content\"],\n",
    "    human_input_mode=\"NEVER\",\n",
    ")"
   ]
  },
  {
   "cell_type": "markdown",
   "id": "d643bc51",
   "metadata": {},
   "source": [
    "Registering the `docling` converter\n"
   ]
  },
  {
   "cell_type": "code",
   "execution_count": null,
   "id": "b7d7f6b1",
   "metadata": {},
   "outputs": [],
   "source": [
    "register_converter(assistant, user_proxy, \"docling\")"
   ]
  },
  {
   "cell_type": "markdown",
   "id": "ba1ef5fd",
   "metadata": {},
   "source": [
    "Example: getting the content of an XLSX file\n"
   ]
  },
  {
   "cell_type": "code",
   "execution_count": null,
   "id": "b05b5aad",
   "metadata": {},
   "outputs": [],
   "source": [
    "chat_result = user_proxy.initiate_chat(\n",
    "    assistant, message=\"What is the content of the file test/agentchat/contrib/markdown_converter/test_files/test.xlsx\"\n",
    ")"
   ]
  }
 ],
 "metadata": {
  "front_matter": {
   "description": "Register function calls using AssistantAgent and UserProxyAgent to execute python or shell code in customized ways. Demonstrating two ways of registering functions.",
   "tags": [
    "code generation",
    "tool/function"
   ]
  },
  "kernelspec": {
   "display_name": ".venv",
   "language": "python",
   "name": "python3"
  },
  "language_info": {
   "codemirror_mode": {
    "name": "ipython",
    "version": 3
   },
   "file_extension": ".py",
   "mimetype": "text/x-python",
   "name": "python",
   "nbconvert_exporter": "python",
   "pygments_lexer": "ipython3",
   "version": "3.12.7"
  }
 },
 "nbformat": 4,
 "nbformat_minor": 5
}
