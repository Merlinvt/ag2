{
 "cells": [
  {
   "cell_type": "code",
   "execution_count": null,
   "metadata": {},
   "outputs": [],
   "source": []
  },
  {
   "cell_type": "code",
   "execution_count": null,
   "metadata": {},
   "outputs": [],
   "source": []
  },
  {
   "cell_type": "code",
   "execution_count": 1,
   "metadata": {},
   "outputs": [],
   "source": [
    "!playwright install --with-deps chromium"
   ]
  },
  {
   "cell_type": "code",
   "execution_count": 2,
   "metadata": {},
   "outputs": [],
   "source": [
    "import asyncio\n",
    "import json\n",
    "import logging\n",
    "import os\n",
    "import sys\n",
    "\n",
    "notebook_dir = os.getcwd()\n",
    "\n",
    "parent_dir = os.path.dirname(notebook_dir)\n",
    "\n",
    "sys.path.append(parent_dir)\n",
    "import tempfile\n",
    "\n",
    "from autogen.agentchat import AssistantAgent, ConversableAgent, UserProxyAgent\n",
    "from autogen.agentchat.contrib.magentic_one.coder_agent import create_coder_agent\n",
    "from autogen.agentchat.contrib.magentic_one.filesurfer_agent import create_file_surfer\n",
    "from autogen.agentchat.contrib.magentic_one.orchestrator_agent import OrchestratorAgent\n",
    "from autogen.agentchat.contrib.magentic_one.websurfer import MultimodalWebSurfer\n",
    "from autogen.coding import DockerCommandLineCodeExecutor\n",
    "\n",
    "logger = logging.getLogger(__name__)\n",
    "logger.setLevel(logging.INFO)\n",
    "\n",
    "# Add console handler\n",
    "console_handler = logging.StreamHandler()\n",
    "console_handler.setLevel(logging.INFO)\n",
    "formatter = logging.Formatter(\"%(asctime)s - %(name)s - %(levelname)s - %(message)s\")\n",
    "console_handler.setFormatter(formatter)\n",
    "logger.addHandler(console_handler)\n",
    "\n",
    "# Set up logging configuration\n",
    "logging.basicConfig(\n",
    "    level=logging.INFO,\n",
    "    format=\"%(asctime)s - %(name)s - %(levelname)s - %(message)s\",\n",
    "    handlers=[logging.StreamHandler(sys.stdout), logging.FileHandler(\"orchestrator.log\")],\n",
    ")\n",
    "\n",
    "logger = logging.getLogger(__name__)\n",
    "logger.setLevel(logging.INFO)\n",
    "\n",
    "sys.path.append(os.path.abspath(os.path.join(os.getcwd(), \"..\")))"
   ]
  },
  {
   "cell_type": "code",
   "execution_count": 3,
   "metadata": {},
   "outputs": [],
   "source": [
    "config_list = [\n",
    "    {\n",
    "        \"model\": os.environ.get(\"MODEL\"),\n",
    "        \"api_key\": os.environ.get(\"API_KEY\"),\n",
    "        \"base_url\": os.environ.get(\"BASE_URL\", None),\n",
    "    }\n",
    "]\n",
    "\n",
    "llm_config = {\"config_list\": config_list, \"temperature\": 0, \"timeout\": 120}\n",
    "\n",
    "\n",
    "temp_dir = tempfile.TemporaryDirectory()"
   ]
  },
  {
   "cell_type": "code",
   "execution_count": 4,
   "metadata": {},
   "outputs": [],
   "source": [
    "executorENV = DockerCommandLineCodeExecutor(\n",
    "    image=\"python:3.12-slim\",\n",
    "    timeout=10,\n",
    "    work_dir=temp_dir.name,\n",
    ")\n",
    "\n",
    "executor = ConversableAgent(\n",
    "    name=\"executor\",\n",
    "    description=\"\"\"A computer terminal that performs no other action than running Python scripts (provided to it quoted in ```python code blocks), or sh shell scripts (provided to it quoted in ```sh code blocks)\"\"\",\n",
    "    llm_config=False,\n",
    "    code_execution_config={\"executor\": executorENV},\n",
    "    human_input_mode=\"NEVER\",\n",
    ")"
   ]
  },
  {
   "cell_type": "code",
   "execution_count": null,
   "metadata": {},
   "outputs": [],
   "source": [
    "# Create the web surfer agent\n",
    "websurfer = MultimodalWebSurfer(name=\"WebSurfer\", human_input_mode=\"TERMINATE\", llm_config=llm_config)\n",
    "\n",
    "# Initialize the browser\n",
    "await websurfer.init(\n",
    "    headless=True,\n",
    "    downloads_folder=\"./downloads\",\n",
    "    start_page=\"https://www.bing.com\",\n",
    "    browser_channel=\"chromium\",\n",
    "    to_save_screenshots=True,\n",
    ")"
   ]
  },
  {
   "cell_type": "code",
   "execution_count": 6,
   "metadata": {},
   "outputs": [],
   "source": [
    "coder = create_coder_agent(\"Coder\", llm_config=llm_config)\n",
    "filesurfer = create_file_surfer(\"FileSurfer\", llm_config=llm_config)"
   ]
  },
  {
   "cell_type": "code",
   "execution_count": 7,
   "metadata": {},
   "outputs": [],
   "source": [
    "# choose the agents for the orchestrator\n",
    "orchestrator = OrchestratorAgent(\n",
    "    name=\"Orchestrator\",\n",
    "    llm_config=llm_config,\n",
    "    agents=[websurfer],  # coder, filesurfer, executor,\n",
    "    max_consecutive_auto_reply=10,\n",
    "    max_stalls_before_replan=3,\n",
    "    max_replans=3,\n",
    "    return_final_answer=True,\n",
    "    description=\"An orchestrator that manages conversation flow and handles errors.\",\n",
    ")"
   ]
  },
  {
   "cell_type": "code",
   "execution_count": null,
   "metadata": {},
   "outputs": [],
   "source": [
    "task = \"\"\"Find out some detailed informtion about the magentic one agent from microsoft\"\"\"\n",
    "# task = \"\"\"Go to amazon.com and find a good beginner 3d printer, pick any good one for under 300 dollars. \"\"\"\n",
    "# task = \"\"\"write the game sname in python \"\"\"\n",
    "# task = \"\"\"can you generate the python call to run all return all the prime numbers bewteen 1 and 1000 and return the prime numbers ? (give the code to the Executor to run it, don't ask the user to run it. If it does not work with the executor, tell the user.)\"\"\"\n",
    "\n",
    "messages = [{\"role\": \"user\", \"content\": task}]\n",
    "\n",
    "# result = await coder.a_generate_reply(messages)\n",
    "# result = await executor.a_generate_reply(messages)\n",
    "\n",
    "result = await orchestrator.a_generate_reply(messages=messages)"
   ]
  },
  {
   "cell_type": "code",
   "execution_count": null,
   "metadata": {},
   "outputs": [],
   "source": [
    "result"
   ]
  }
 ],
 "metadata": {
  "kernelspec": {
   "display_name": ".venv",
   "language": "python",
   "name": "python3"
  },
  "language_info": {
   "codemirror_mode": {
    "name": "ipython",
    "version": 3
   },
   "file_extension": ".py",
   "mimetype": "text/x-python",
   "name": "python",
   "nbconvert_exporter": "python",
   "pygments_lexer": "ipython3",
   "version": "3.12.7"
  }
 },
 "nbformat": 4,
 "nbformat_minor": 2
}
